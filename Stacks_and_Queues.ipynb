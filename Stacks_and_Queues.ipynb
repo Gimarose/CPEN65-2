{
  "nbformat": 4,
  "nbformat_minor": 0,
  "metadata": {
    "colab": {
      "provenance": [],
      "authorship_tag": "ABX9TyP7gm9MDobCswVAzzUVheoe",
      "include_colab_link": true
    },
    "kernelspec": {
      "name": "python3",
      "display_name": "Python 3"
    },
    "language_info": {
      "name": "python"
    }
  },
  "cells": [
    {
      "cell_type": "markdown",
      "metadata": {
        "id": "view-in-github",
        "colab_type": "text"
      },
      "source": [
        "<a href=\"https://colab.research.google.com/github/Gimarose/CPEN65-2/blob/main/Stacks_and_Queues.ipynb\" target=\"_parent\"><img src=\"https://colab.research.google.com/assets/colab-badge.svg\" alt=\"Open In Colab\"/></a>"
      ]
    },
    {
      "cell_type": "code",
      "execution_count": null,
      "metadata": {
        "colab": {
          "base_uri": "https://localhost:8080/"
        },
        "id": "HbC5Pn1tD5nv",
        "outputId": "984d7bee-f446-4f7a-ea7f-25d16b1c9002"
      },
      "outputs": [
        {
          "output_type": "stream",
          "name": "stdout",
          "text": [
            "[1, 2, 3]\n",
            "[1, 2]\n",
            "[1]\n",
            "[]\n"
          ]
        }
      ],
      "source": [
        "class Stack:\n",
        "  def __init__(self):\n",
        "    self.stack = []\n",
        "\n",
        "  def push(self, dataval):\n",
        "    if dataval not in self.stack:\n",
        "      return self.stack.append(dataval)\n",
        "    else:\n",
        "      return False\n",
        "  def pop(self):\n",
        "    if len(self.stack) <=0:\n",
        "      return \"Stack is empty\"\n",
        "    else:\n",
        "      return self.stack.pop()\n",
        "\n",
        "AStack = Stack()\n",
        "AStack.push(1)\n",
        "AStack.push(2)\n",
        "AStack.push(3)\n",
        "\n",
        "AStack.push(3)\n",
        "\n",
        "print(AStack.stack)\n",
        "\n",
        "AStack.pop()\n",
        "print(AStack.stack)\n",
        "AStack.pop()\n",
        "print(AStack.stack)\n",
        "AStack.pop()\n",
        "print(AStack.stack)"
      ]
    },
    {
      "cell_type": "markdown",
      "source": [
        "#Application 1\n",
        "#Implement the above program by Queues Data Structure (enqueue and dequeue/FIFO)\n"
      ],
      "metadata": {
        "id": "ZDSdfTozMLSj"
      }
    },
    {
      "cell_type": "code",
      "source": [
        "class Queue:\n",
        "\n",
        "    def __init__(self):\n",
        "        self.queue = []\n",
        "\n",
        "    def enqueue(self, dataval):\n",
        "        if dataval not in self.queue:\n",
        "          return self.queue.append(dataval)\n",
        "        else:\n",
        "          return False        \n",
        "\n",
        "    def dequeue(self):\n",
        "        if len(self.queue) < 1:\n",
        "          return 'Stack is empty'\n",
        "        else:\n",
        "          return self.queue.pop(0)\n",
        "\n",
        "q = Queue()\n",
        "q.enqueue(1)\n",
        "q.enqueue(2)\n",
        "q.enqueue(3)\n",
        "\n",
        "print(q.queue)\n",
        "\n",
        "q.dequeue()\n",
        "print(q.queue)\n",
        "q.dequeue()\n",
        "print(q.queue)\n",
        "q.dequeue()\n",
        "print(q.queue)"
      ],
      "metadata": {
        "id": "9tdWM9j4MJJE",
        "colab": {
          "base_uri": "https://localhost:8080/"
        },
        "outputId": "80e3faf8-a6e3-4700-d4ea-cbdb77f9eea3"
      },
      "execution_count": null,
      "outputs": [
        {
          "output_type": "stream",
          "name": "stdout",
          "text": [
            "[1, 2, 3]\n",
            "[2, 3]\n",
            "[3]\n",
            "[]\n"
          ]
        }
      ]
    }
  ]
}