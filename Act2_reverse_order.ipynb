{
  "nbformat": 4,
  "nbformat_minor": 0,
  "metadata": {
    "colab": {
      "provenance": [],
      "authorship_tag": "ABX9TyPReUA/8RjKD/UmJsqoeD6n",
      "include_colab_link": true
    },
    "kernelspec": {
      "name": "python3",
      "display_name": "Python 3"
    },
    "language_info": {
      "name": "python"
    }
  },
  "cells": [
    {
      "cell_type": "markdown",
      "metadata": {
        "id": "view-in-github",
        "colab_type": "text"
      },
      "source": [
        "<a href=\"https://colab.research.google.com/github/Gimarose/CPEN65-2/blob/main/Act2_reverse_order.ipynb\" target=\"_parent\"><img src=\"https://colab.research.google.com/assets/colab-badge.svg\" alt=\"Open In Colab\"/></a>"
      ]
    },
    {
      "cell_type": "code",
      "execution_count": 3,
      "metadata": {
        "colab": {
          "base_uri": "https://localhost:8080/"
        },
        "id": "QtUs-mlNvDgt",
        "outputId": "ad191702-edce-4591-dfcd-9e92fc86fe8e"
      },
      "outputs": [
        {
          "output_type": "stream",
          "name": "stdout",
          "text": [
            "['G', 'I', 'M', 'A', 'R', 'O', 'S', 'E', 'A', '.', 'L', 'U', 'Z', 'A', 'N', 'D', 'E']\n",
            "['E', 'D', 'N', 'A', 'Z', 'U', 'L', '.', 'A', 'E', 'S', 'O', 'R', 'A', 'M', 'I', 'G']\n"
          ]
        }
      ],
      "source": [
        "name = [\"G\",\"I\",\"M\",\"A\",\"R\",\"O\",\"S\",\"E\",\"A\",\".\",\"L\",\"U\",\"Z\",\"A\",\"N\",\"D\",\"E\"]\n",
        "print(name)\n",
        "\n",
        "name.reverse()\n",
        "print(name)"
      ]
    }
  ]
}