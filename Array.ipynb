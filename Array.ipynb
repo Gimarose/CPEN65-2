{
  "nbformat": 4,
  "nbformat_minor": 0,
  "metadata": {
    "colab": {
      "provenance": [],
      "authorship_tag": "ABX9TyNNuO//PIEOBy73vhWVCfxF",
      "include_colab_link": true
    },
    "kernelspec": {
      "name": "python3",
      "display_name": "Python 3"
    },
    "language_info": {
      "name": "python"
    }
  },
  "cells": [
    {
      "cell_type": "markdown",
      "metadata": {
        "id": "view-in-github",
        "colab_type": "text"
      },
      "source": [
        "<a href=\"https://colab.research.google.com/github/Gimarose/CPEN65-2/blob/main/Array.ipynb\" target=\"_parent\"><img src=\"https://colab.research.google.com/assets/colab-badge.svg\" alt=\"Open In Colab\"/></a>"
      ]
    },
    {
      "cell_type": "code",
      "execution_count": 1,
      "metadata": {
        "colab": {
          "base_uri": "https://localhost:8080/"
        },
        "id": "73LfOvvLL-PD",
        "outputId": "514a7a37-b433-410a-f16d-83ba25ef70c7"
      },
      "outputs": [
        {
          "output_type": "stream",
          "name": "stdout",
          "text": [
            "Array[0] = cat\n",
            "Array[1] = dog\n"
          ]
        }
      ],
      "source": [
        "#Accessing the elements in an Array\n",
        "\n",
        "animals = [\"cat\",\"dog\",\"cow\"]\n",
        "x = animals[0]\n",
        "y = animals[1]\n",
        "z = animals[2]\n",
        "print(\"Array[0] =\",x)\n",
        "print(\"Array[1] =\",y)"
      ]
    },
    {
      "cell_type": "code",
      "source": [
        "#modifying the elements in the Array\n",
        "animals = [\"cat\",\"dog\",\"cow\"]\n",
        "animals[0] = \"monkey\"\n",
        "x = animals[0]\n",
        "print(\"Array[0] = \",x)\n",
        "print(animals)"
      ],
      "metadata": {
        "colab": {
          "base_uri": "https://localhost:8080/"
        },
        "id": "aI7QgYJgMqMh",
        "outputId": "e1cd0f1b-544a-412c-c2bf-b0d813b175c8"
      },
      "execution_count": 2,
      "outputs": [
        {
          "output_type": "stream",
          "name": "stdout",
          "text": [
            "Array[0] =  monkey\n",
            "['monkey', 'dog', 'cow']\n"
          ]
        }
      ]
    },
    {
      "cell_type": "code",
      "source": [
        "#length of the Array\n",
        "animals = [\"monkey\",\"cat\",\"dog\",\"fish\"]\n",
        "v = len(animals)\n",
        "print(v)"
      ],
      "metadata": {
        "colab": {
          "base_uri": "https://localhost:8080/"
        },
        "id": "Z-Pk44ChMzcP",
        "outputId": "16749363-0a3a-4cd9-d37c-3bdabe75482b"
      },
      "execution_count": 3,
      "outputs": [
        {
          "output_type": "stream",
          "name": "stdout",
          "text": [
            "4\n"
          ]
        }
      ]
    },
    {
      "cell_type": "code",
      "source": [
        "#looping Array Elements\n",
        "animals = [\"monkey\",\"cat\",\"dog\",\"fish\", \"cow\"]\n",
        "for x in animals:\n",
        "  print(x)"
      ],
      "metadata": {
        "colab": {
          "base_uri": "https://localhost:8080/"
        },
        "id": "V78nbvAiM4_H",
        "outputId": "7976b7d0-96a4-49a6-c3d2-5bd568dff773"
      },
      "execution_count": 4,
      "outputs": [
        {
          "output_type": "stream",
          "name": "stdout",
          "text": [
            "monkey\n",
            "cat\n",
            "dog\n",
            "fish\n",
            "cow\n"
          ]
        }
      ]
    },
    {
      "cell_type": "code",
      "source": [
        "animals = [\"monkey\",\"cat\",\"dog\",\"fish\", \"cow\"]\n",
        "for index , val in enumerate(animals):\n",
        "  print(index,val)"
      ],
      "metadata": {
        "colab": {
          "base_uri": "https://localhost:8080/"
        },
        "id": "iwREWy19NL_Z",
        "outputId": "403a64db-ed74-48c7-92a3-4c2003bed66f"
      },
      "execution_count": 5,
      "outputs": [
        {
          "output_type": "stream",
          "name": "stdout",
          "text": [
            "0 monkey\n",
            "1 cat\n",
            "2 dog\n",
            "3 fish\n",
            "4 cow\n"
          ]
        }
      ]
    },
    {
      "cell_type": "code",
      "source": [
        "#adding elements in the array\n",
        "animals = [\"monkey\",\"cat\",\"dog\",\"fish\", \"cow\"]\n",
        "animals.append(\"tiger\")\n",
        "print(animals)"
      ],
      "metadata": {
        "colab": {
          "base_uri": "https://localhost:8080/"
        },
        "id": "MmN4ZsdZNbI2",
        "outputId": "9237d08d-96dc-4d1b-b6ed-12adb5c12665"
      },
      "execution_count": 6,
      "outputs": [
        {
          "output_type": "stream",
          "name": "stdout",
          "text": [
            "['monkey', 'cat', 'dog', 'fish', 'cow', 'tiger']\n"
          ]
        }
      ]
    },
    {
      "cell_type": "code",
      "source": [
        "#create a pythin program to insert a new item ('11') before the second element in an existing array,\n",
        "#original array: numbers = [1,2,3,4,5,6,7,8,9,10,]\n",
        "numbers = [1,2,3,4,5,6,7,8,9,10,]\n",
        "numbers.insert(1,11)\n",
        "print(numbers)"
      ],
      "metadata": {
        "colab": {
          "base_uri": "https://localhost:8080/"
        },
        "id": "mEQstwlNNjyE",
        "outputId": "667becd8-5d0f-481c-8583-c9c92908ddff"
      },
      "execution_count": 7,
      "outputs": [
        {
          "output_type": "stream",
          "name": "stdout",
          "text": [
            "[1, 11, 2, 3, 4, 5, 6, 7, 8, 9, 10]\n"
          ]
        }
      ]
    },
    {
      "cell_type": "code",
      "source": [
        "#removing elements in an array\n",
        "animals = [\"monkey\",\"cat\",\"dog\",\"fish\", \"cow\"]\n",
        "animals.pop(1)\n",
        "print(animals)"
      ],
      "metadata": {
        "colab": {
          "base_uri": "https://localhost:8080/"
        },
        "id": "PQqEJ8V-N16C",
        "outputId": "da77d0e7-bf3f-4369-d061-5e8425f18730"
      },
      "execution_count": 8,
      "outputs": [
        {
          "output_type": "stream",
          "name": "stdout",
          "text": [
            "['monkey', 'dog', 'fish', 'cow']\n"
          ]
        }
      ]
    }
  ]
}